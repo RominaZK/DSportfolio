{
 "cells": [
  {
   "cell_type": "markdown",
   "id": "83be7ca0",
   "metadata": {},
   "source": [
    "# Titanic Dataset – EDA & Data Cleaning"
   ]
  },
  {
   "cell_type": "markdown",
   "id": "d86aeac9",
   "metadata": {},
   "source": [
    "This notebook performs exploratory data analysis and basic cleaning on the Titanic dataset. It prepares the dataset for future machine learning modeling."
   ]
  },
  {
   "cell_type": "markdown",
   "id": "7111167e",
   "metadata": {},
   "source": [
    "## 1. Import Libraries"
   ]
  },
  {
   "cell_type": "code",
   "execution_count": null,
   "id": "3dfe05cb",
   "metadata": {},
   "outputs": [],
   "source": [
    "import pandas as pd\n",
    "import numpy as np\n",
    "import matplotlib.pyplot as plt\n",
    "import seaborn as sns\n",
    "\n",
    "sns.set(style='whitegrid')"
   ]
  },
  {
   "cell_type": "markdown",
   "id": "ba6a3a05",
   "metadata": {},
   "source": [
    "## 2. Load Data"
   ]
  },
  {
   "cell_type": "code",
   "execution_count": null,
   "id": "079b5419",
   "metadata": {},
   "outputs": [],
   "source": [
    "df = pd.read_csv('../data/titanic.csv')  # Adjust the path if needed\n",
    "df.head()"
   ]
  },
  {
   "cell_type": "markdown",
   "id": "41451571",
   "metadata": {},
   "source": [
    "## 3. Exploratory Data Analysis (EDA)"
   ]
  },
  {
   "cell_type": "code",
   "execution_count": null,
   "id": "c1c00a9e",
   "metadata": {},
   "outputs": [],
   "source": [
    "# Overview of data\n",
    "print(df.shape)\n",
    "df.info()\n",
    "df.describe(include='all')"
   ]
  },
  {
   "cell_type": "code",
   "execution_count": null,
   "id": "cf05be12",
   "metadata": {},
   "outputs": [],
   "source": [
    "# Missing values\n",
    "missing = df.isnull().sum()\n",
    "missing[missing > 0]"
   ]
  },
  {
   "cell_type": "code",
   "execution_count": null,
   "id": "6a12a5f3",
   "metadata": {},
   "outputs": [],
   "source": [
    "# Categorical variables distribution\n",
    "categorical = df.select_dtypes(include='object')\n",
    "for col in categorical.columns:\n",
    "    print(df[col].value_counts())\n",
    "    print('-'*40)"
   ]
  },
  {
   "cell_type": "code",
   "execution_count": null,
   "id": "98b10451",
   "metadata": {},
   "outputs": [],
   "source": [
    "# Numerical variable distribution\n",
    "numerical = df.select_dtypes(include=['int64', 'float64'])\n",
    "numerical.hist(figsize=(12, 8))\n",
    "plt.tight_layout()\n",
    "plt.show()"
   ]
  },
  {
   "cell_type": "code",
   "execution_count": null,
   "id": "482be392",
   "metadata": {},
   "outputs": [],
   "source": [
    "# Correlation heatmap\n",
    "plt.figure(figsize=(10,6))\n",
    "sns.heatmap(df.corr(), annot=True, cmap='coolwarm')\n",
    "plt.title('Correlation Matrix')\n",
    "plt.show()"
   ]
  },
  {
   "cell_type": "markdown",
   "id": "6f8acab4",
   "metadata": {},
   "source": [
    "## 4. Data Cleaning"
   ]
  },
  {
   "cell_type": "code",
   "execution_count": null,
   "id": "6da0dd7f",
   "metadata": {},
   "outputs": [],
   "source": [
    "# Fill missing 'age' with median\n",
    "df['age'].fillna(df['age'].median(), inplace=True)"
   ]
  },
  {
   "cell_type": "code",
   "execution_count": null,
   "id": "5e925956",
   "metadata": {},
   "outputs": [],
   "source": [
    "# Drop rows with missing 'embarked'\n",
    "df.dropna(subset=['embarked'], inplace=True)"
   ]
  },
  {
   "cell_type": "code",
   "execution_count": null,
   "id": "609df61a",
   "metadata": {},
   "outputs": [],
   "source": [
    "# Drop 'deck' due to too many missing values\n",
    "if 'deck' in df.columns:\n",
    "    df.drop(columns=['deck'], inplace=True)"
   ]
  },
  {
   "cell_type": "code",
   "execution_count": null,
   "id": "508ebbfa",
   "metadata": {},
   "outputs": [],
   "source": [
    "# Encode 'sex' and 'embarked'\n",
    "df['sex'] = df['sex'].map({'male': 0, 'female': 1})\n",
    "df = pd.get_dummies(df, columns=['embarked'], drop_first=True)"
   ]
  },
  {
   "cell_type": "markdown",
   "id": "14a9afe7",
   "metadata": {},
   "source": [
    "## 5. Preprocessing"
   ]
  },
  {
   "cell_type": "code",
   "execution_count": null,
   "id": "e0f5bef9",
   "metadata": {},
   "outputs": [],
   "source": [
    "# Drop irrelevant columns (like name, ticket, cabin)\n",
    "df.drop(columns=['embark_town', 'alive', 'class', 'who', 'adult_male', 'alone'], inplace=True, errors='ignore')"
   ]
  },
  {
   "cell_type": "code",
   "execution_count": null,
   "id": "5254a7ba",
   "metadata": {},
   "outputs": [],
   "source": [
    "# Train-test split\n",
    "from sklearn.model_selection import train_test_split\n",
    "\n",
    "X = df.drop('survived', axis=1)\n",
    "y = df['survived']\n",
    "\n",
    "X_train, X_test, y_train, y_test = train_test_split(X, y, test_size=0.2, random_state=42)"
   ]
  },
  {
   "cell_type": "markdown",
   "id": "15aac8cb",
   "metadata": {},
   "source": [
    "## 6. Conclusion"
   ]
  },
  {
   "cell_type": "markdown",
   "id": "0f42f290",
   "metadata": {},
   "source": [
    "The Titanic dataset has been cleaned and preprocessed. It is now ready for machine learning modeling, such as logistic regression or decision trees."
   ]
  }
 ],
 "metadata": {},
 "nbformat": 4,
 "nbformat_minor": 5
}
